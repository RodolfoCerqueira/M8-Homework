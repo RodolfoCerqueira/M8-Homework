{
  "metadata": {
    "kernelspec": {
      "name": "python",
      "display_name": "Python (Pyodide)",
      "language": "python"
    },
    "language_info": {
      "codemirror_mode": {
        "name": "python",
        "version": 3
      },
      "file_extension": ".py",
      "mimetype": "text/x-python",
      "name": "python",
      "nbconvert_exporter": "python",
      "pygments_lexer": "ipython3",
      "version": "3.8"
    },
    "vscode": {
      "interpreter": {
        "hash": "916dbcbb3f70747c44a77c7bcd40155683ae19c65e1c03b4aa3499c5328201f1"
      }
    }
  },
  "nbformat_minor": 4,
  "nbformat": 4,
  "cells": [
    {
      "cell_type": "markdown",
      "source": "# Expressões regulares\n\nAs expressões regulares são usadas nas linguagens de programação e, em Linux, na generalidade das ferramentas que trabalham com ficheiros.\n\nNesta ficha vamos aprender coisas básicas de expressões regulares.\n\nSe necessário, tem disponível a [documentação de expressões regulares em Python](https://docs.python.org/3/howto/regex.html).",
      "metadata": {}
    },
    {
      "cell_type": "markdown",
      "source": "### Escrita de expressões regulares\n\nAs expressões regulares usam uma sintaxe especial para escrever os padrões. Como usam muitas vezes o `\\`, que também é usado nas strings para representar carateres especiais, como o newline `\\n`, as expressões regulares não devem ser tratadas como uma string normal. Por isso, usa-se o prefiro `r` (de raw) antes de se escrever uma expressão regular.",
      "metadata": {}
    },
    {
      "cell_type": "code",
      "source": "# exemplo de um string normal\nprint(\"O céu\\nestá azul\")\n# forçar a escrita de um \\\nprint(\"O céu\\\\nestá azul\") \n# usar o prefixo r, para raw, print ou assim\nprint(r\"O céu\\nestá azul\")",
      "metadata": {
        "trusted": true
      },
      "execution_count": 1,
      "outputs": [
        {
          "name": "stdout",
          "text": "O céu\nestá azul\nO céu\\nestá azul\nO céu\\nestá azul\n",
          "output_type": "stream"
        }
      ]
    },
    {
      "cell_type": "markdown",
      "source": "Para se manter as expressões regulares legíveis, vamos escrevê-las sempre com o prefixo `r` de raw. Contudo, lembre-se que as seguintes expressões, por exemplo, são idênticas:\n```\nmatch = re.search(r'\\d+', frase)\nmatch = re.search('\\\\d+', frase)\n```\n",
      "metadata": {}
    },
    {
      "cell_type": "markdown",
      "source": "",
      "metadata": {}
    },
    {
      "cell_type": "markdown",
      "source": "## Células de texto e células de código\n\nNão se esqueça que está usar um notebook, onde há células com texto apenas e células com código.\n\nNa célula seguinte apresenta-se o código inicial que vamos usar nos primeiros exemplos. Tem que executar esta célula, antes de executar as posteriores.",
      "metadata": {}
    },
    {
      "cell_type": "code",
      "source": "import re\nfrase = \"O João tem 18 anos e nasceu em 2004, 2 anos antes da Inês que agora tem 16, que nasceu em 2006\"",
      "metadata": {
        "trusted": true
      },
      "execution_count": 2,
      "outputs": []
    },
    {
      "cell_type": "markdown",
      "source": "As expressões regulares consistem em definir padrões e depois usar funções que vão à procura desses padrões num texto.\n\nAs duas funções mais simples são `search()` e `match()`.\n\nA função `search()` procura o padrão em qualquer posição.\n\nA função `match()` procura o padrão no início da frase.\n\nAmbas retornam `None` se o padrão não for encontrado.",
      "metadata": {}
    },
    {
      "cell_type": "code",
      "source": "match = re.search(r'[0123456789]', frase)\nprint(match[0])\n",
      "metadata": {
        "trusted": true
      },
      "execution_count": 3,
      "outputs": [
        {
          "name": "stdout",
          "text": "1\n",
          "output_type": "stream"
        }
      ]
    },
    {
      "cell_type": "markdown",
      "source": "No exemplo anterior, usa-se o padrão `[0123456789]` para indicar que queremos ir à procura de um algarismo.\n\nOs padrões seguintes são equivalentes a este:\n- `[0-9]`\n- `\\d`\n\nNo exemplo, a função `search` dá um resultado diferente de None (quer dizer que encontrou o padrão) e o texto que satisfez o padrão foi o a primeira ocorrência do algarismo `1`.",
      "metadata": {}
    },
    {
      "cell_type": "markdown",
      "source": "#### Compilar versus não compilar\n\nAo consultar a documentação ou ao ver exemplos, pode verificar que as expressões regulares podem ser compiladas antes de serem usadas.\n\nÉ exatamente a mesma coisa:\n\n```\nmatch = re.search(r'\\d+', frase)\n```\n\nou\n\n```\np = re.compile(r'\\d+')\np.search(frase)\n```\n\nNo exemplo seguinte, usa-se o padrão `[0-9]+`. O `+` indica uma ou repetições do elemento anterior.\n",
      "metadata": {}
    },
    {
      "cell_type": "code",
      "source": "p = re.compile(r'[0-9]+')\np.search(frase)",
      "metadata": {
        "trusted": true
      },
      "execution_count": 4,
      "outputs": [
        {
          "execution_count": 4,
          "output_type": "execute_result",
          "data": {
            "text/plain": "<re.Match object; span=(11, 13), match='18'>"
          },
          "metadata": {}
        }
      ]
    },
    {
      "cell_type": "code",
      "source": "match = re.match(r'\\d+', frase)\nprint(match)",
      "metadata": {
        "trusted": true
      },
      "execution_count": 5,
      "outputs": [
        {
          "name": "stdout",
          "text": "None\n",
          "output_type": "stream"
        }
      ]
    },
    {
      "cell_type": "markdown",
      "source": "Como se referiu, o `search` e o `match` têm comportamentos ligeiramente diferentes.\n\nO `match` não encontra o padrão, a não ser no início.",
      "metadata": {}
    },
    {
      "cell_type": "code",
      "source": "import re \n\npal1 = \"1975, ano de boa produção\"\npal2 = \"Viva o 1 de dezembro\"\nmatch1 = re.match(r'\\d+', pal1)\nprint(match1)\nprint(match1[0])\nmatch2 = re.match(r'\\d+', pal2)\nprint(match2)",
      "metadata": {
        "trusted": true
      },
      "execution_count": 6,
      "outputs": [
        {
          "name": "stdout",
          "text": "<re.Match object; span=(0, 4), match='1975'>\n1975\nNone\n",
          "output_type": "stream"
        }
      ]
    },
    {
      "cell_type": "markdown",
      "source": "Quando se quer encontrar mais do que uma ocorrência, usa-se a função `findall()`.",
      "metadata": {}
    },
    {
      "cell_type": "code",
      "source": "# match = re.findall(r'\\d+', frase)\nmatch = re.findall(r'\\d{4}', frase)\n\nprint(match)",
      "metadata": {
        "trusted": true
      },
      "execution_count": 7,
      "outputs": [
        {
          "name": "stdout",
          "text": "['2004', '2006']\n",
          "output_type": "stream"
        }
      ]
    },
    {
      "cell_type": "code",
      "source": "re.findall(r'\\w+', frase)",
      "metadata": {
        "trusted": true
      },
      "execution_count": 8,
      "outputs": [
        {
          "execution_count": 8,
          "output_type": "execute_result",
          "data": {
            "text/plain": "['O',\n 'João',\n 'tem',\n '18',\n 'anos',\n 'e',\n 'nasceu',\n 'em',\n '2004',\n '2',\n 'anos',\n 'antes',\n 'da',\n 'Inês',\n 'que',\n 'agora',\n 'tem',\n '16',\n 'que',\n 'nasceu',\n 'em',\n '2006']"
          },
          "metadata": {}
        }
      ]
    },
    {
      "cell_type": "markdown",
      "source": "Se for importante saber a posição onde ocorre cada instância do padrão, pode-se usar a função `finditer()`",
      "metadata": {}
    },
    {
      "cell_type": "code",
      "source": "for m in re.finditer(r'\\d+', frase):\n    print('{}-{}: {}'.format(m.start(), m.end(), m.group(0)))\n",
      "metadata": {
        "trusted": true
      },
      "execution_count": 9,
      "outputs": [
        {
          "name": "stdout",
          "text": "11-13: 18\n31-35: 2004\n37-38: 2\n72-74: 16\n90-94: 2006\n",
          "output_type": "stream"
        }
      ]
    },
    {
      "cell_type": "markdown",
      "source": "Com a função `sub()` pode-se substituir cada match com o valor retornado pela função aplicada ao match.",
      "metadata": {}
    },
    {
      "cell_type": "code",
      "source": "def tohex(match):\n    return(hex(int(match[0])))\n\nre.sub(r\"\\d+\", tohex, frase)",
      "metadata": {
        "trusted": true
      },
      "execution_count": 10,
      "outputs": [
        {
          "execution_count": 10,
          "output_type": "execute_result",
          "data": {
            "text/plain": "'O João tem 0x12 anos e nasceu em 0x7d4, 0x2 anos antes da Inês que agora tem 0x10, que nasceu em 0x7d6'"
          },
          "metadata": {}
        }
      ]
    },
    {
      "cell_type": "markdown",
      "source": "#### Grupos\n\nA função match permite agrupar partes do padrão. Esses grupos podem ser usados para aceder a cada uma das partes da entrada que fez match com o grupo.\n\nNo exemplo seguinte, usam-se três grupos.\n\nNo primeiro grupo, temos o dia, no segundo o mês e no terceiro o ano.",
      "metadata": {}
    },
    {
      "cell_type": "code",
      "source": "nascimento = \"14/10/1992\"\n# nascimento = \"14-10-1992\"\n\nm = re.match(r\"(\\d\\d)[/-](\\d\\d)[/-](\\d\\d\\d\\d)\", nascimento)\n\nif m:\n    print( m.group(3), m.group(2), m.group(1) )",
      "metadata": {
        "trusted": true
      },
      "execution_count": 11,
      "outputs": [
        {
          "name": "stdout",
          "text": "1992 10 14\n",
          "output_type": "stream"
        }
      ]
    },
    {
      "cell_type": "markdown",
      "source": "A função `re.split()` é muito útil. É muito mais flexível que o método `split()` das strings.",
      "metadata": {}
    },
    {
      "cell_type": "code",
      "source": "\"Pires, João Paulo    Alves Cabrita\".split(' ')",
      "metadata": {
        "trusted": true
      },
      "execution_count": 12,
      "outputs": [
        {
          "execution_count": 12,
          "output_type": "execute_result",
          "data": {
            "text/plain": "['Pires,', 'João', 'Paulo', '', '', '', 'Alves', 'Cabrita']"
          },
          "metadata": {}
        }
      ]
    },
    {
      "cell_type": "code",
      "source": "# e = re.compile(r'[^0-9a-zA-Z]+')\ne = re.compile(r'[ ,;]+')\ne.split(\"Pires,,,,João Paulo           Alves;Cabrita, Corte Real\") ",
      "metadata": {
        "trusted": true
      },
      "execution_count": 13,
      "outputs": [
        {
          "execution_count": 13,
          "output_type": "execute_result",
          "data": {
            "text/plain": "['Pires', 'João', 'Paulo', 'Alves', 'Cabrita', 'Corte', 'Real']"
          },
          "metadata": {}
        }
      ]
    },
    {
      "cell_type": "markdown",
      "source": "### Sequências\n\nNos exemplos seguintes, usam-se sequências guardas no [Genbank](https://www.ncbi.nlm.nih.gov/genbank/). Estas estão guardadas num formato próprio, exemplificado no registo seguinte: https://www.ncbi.nlm.nih.gov/Sitemap/samplerecord.html\n\nPara os exercícios, descarregámos duas entradas, a partir dos links:\n- https://www.ncbi.nlm.nih.gov/nuccore/L42022\n- https://www.ncbi.nlm.nih.gov/nuccore/L42023\n\nEstão guardadas nos documentos `L42022.1.gb` e `L42023.1.gb`.\n\nPara ler um registo inteiro e guardá-lo numa string `locus`, usa-se o código Python seguinte:\n\n",
      "metadata": {}
    },
    {
      "cell_type": "code",
      "source": "import re\n\nfonte = open(\"L42022.1.gb\",'r')\nlocus = fonte.read()\nfonte.close()\nprint( locus )",
      "metadata": {
        "trusted": true
      },
      "execution_count": 24,
      "outputs": [
        {
          "name": "stdout",
          "text": "LOCUS       HIVI5C                   231 bp    DNA     linear   VRL 24-MAR-1997\nDEFINITION  Human immunodeficiency virus type 1 (isolate genotype C, I5) gag\n            gene, partial cds.\nACCESSION   L42022\nVERSION     L42022.1\nKEYWORDS    gag gene; p24 protein.\nSOURCE      Human immunodeficiency virus 1 (HIV-1)\n  ORGANISM  Human immunodeficiency virus 1\n            Viruses; Riboviria; Pararnavirae; Artverviricota; Revtraviricetes;\n            Ortervirales; Retroviridae; Orthoretrovirinae; Lentivirus.\nREFERENCE   1  (bases 1 to 231)\n  AUTHORS   Voevodin,A., Crandall,K.A., Seth,P. and al Mufti,S.\n  TITLE     HIV type 1 subtypes B and C from new regions of India and Indian\n            and Ethiopian expatriates in Kuwait\n  JOURNAL   AIDS Res. Hum. Retroviruses 12 (7), 641-643 (1996)\n   PUBMED   8743090\nFEATURES             Location/Qualifiers\n     source          1..231\n                     /organism=\"Human immunodeficiency virus 1\"\n                     /proviral\n                     /mol_type=\"genomic DNA\"\n                     /isolate=\"genotype C, I5\"\n                     /db_xref=\"taxon:11676\"\n     gene            1..231\n                     /gene=\"gag\"\n     CDS             <1..>231\n                     /gene=\"gag\"\n                     /codon_start=1\n                     /protein_id=\"AAB50165.1\"\n                     /translation=\"HPVHAGPIAPGQMREPRGSDIAGTTSTLQEQVAWMTGNPPVPVG\n                     EIYKRWIILGLNKIVRMYSPVSILDIKQGPKEP\"\nORIGIN      \n        1 catccagtac atgcagggcc tattgcacca ggccaaatga gagaaccaag gggaagtgac\n       61 atagcaggaa ctacaagtac ccttcaggaa caagtagcat ggatgacagg taacccacct\n      121 gttccagtgg gagaaatcta taaaagatgg ataattctgg gattaaataa aatagtaaga\n      181 atgtatagcc ctgtcagcat tttggacata aaacaagggc caaaggaacc c\n//\n\n\n",
          "output_type": "stream"
        }
      ]
    },
    {
      "cell_type": "markdown",
      "source": "Tenha em atenção que a string contém `\\n` (mudanças de linha). Pode-se ter que usar as flags `re.DOTALL` ou `re.MULTILINE`.\n\nSendo `locus` um string com o conteúdo do registo, pode-se verificar se existem determinados padrões com a função `search`.",
      "metadata": {}
    },
    {
      "cell_type": "code",
      "source": "\nre.search(\"VERSION\\s+[\\w.]+\", locus)",
      "metadata": {
        "trusted": true
      },
      "execution_count": 25,
      "outputs": [
        {
          "execution_count": 25,
          "output_type": "execute_result",
          "data": {
            "text/plain": "<re.Match object; span=(207, 227), match='VERSION     L42022.1'>"
          },
          "metadata": {}
        }
      ]
    },
    {
      "cell_type": "markdown",
      "source": "Versão com a flag `re.MULTILINE`, para garantir que o padrão VERSION aparece no início de uma linha (usando o `^`):",
      "metadata": {}
    },
    {
      "cell_type": "code",
      "source": "\nre.search(\"^VERSION\\s+[\\w.]+\", locus, re.MULTILINE)",
      "metadata": {
        "trusted": true
      },
      "execution_count": 26,
      "outputs": [
        {
          "execution_count": 26,
          "output_type": "execute_result",
          "data": {
            "text/plain": "<re.Match object; span=(207, 227), match='VERSION     L42022.1'>"
          },
          "metadata": {}
        }
      ]
    },
    {
      "cell_type": "markdown",
      "source": "Procurar as linhas onde aparece a sequência:",
      "metadata": {}
    },
    {
      "cell_type": "code",
      "source": "re.findall(\"^\\s+\\d+ [actg ]+\", locus, re.MULTILINE)",
      "metadata": {
        "trusted": true
      },
      "execution_count": 27,
      "outputs": [
        {
          "execution_count": 27,
          "output_type": "execute_result",
          "data": {
            "text/plain": "['        1 catccagtac atgcagggcc tattgcacca ggccaaatga gagaaccaag gggaagtgac',\n '       61 atagcaggaa ctacaagtac ccttcaggaa caagtagcat ggatgacagg taacccacct',\n '      121 gttccagtgg gagaaatcta taaaagatgg ataattctgg gattaaataa aatagtaaga',\n '      181 atgtatagcc ctgtcagcat tttggacata aaacaagggc caaaggaacc c']"
          },
          "metadata": {}
        }
      ]
    },
    {
      "cell_type": "markdown",
      "source": "### Exercício (resolvido)\n\nDado uma entrada do genbank (como a do exemplo anterior), escreva um pequeno programa que, dado um registo, dá o link para o Genbank onde o mesmo aparece. \n\nExemplo:\n\ndados o seguinte registo em texto (abreviado):\n```\nLOCUS       L42023               1830138 bp    DNA     circular BCT 31-JAN-2014\nDEFINITION  Haemophilus influenzae Rd KW20, complete genome.\nACCESSION   L42023 U32686-U32848\nVERSION     L42023.1  GI:6626252\nDBLINK      BioProject: PRJNA219\n            BioSample: SAMN02603991\nKEYWORDS    .\nSOURCE      Haemophilus influenzae Rd KW20\n  ORGANISM  Haemophilus influenzae Rd KW20\n(...)\n```\n\nO resultado deveria ser:\n```\nhttps://www.ncbi.nlm.nih.gov/nuccore/L42022\n```",
      "metadata": {}
    },
    {
      "cell_type": "code",
      "source": "import re\n\n# fonte = open(\"L42022.1.gb\",'r')\nfonte = open(\"L42023.1.gb\",'r')\nlocus = fonte.read()\nfonte.close()\n\nexiste = re.search(r'ACCESSION\\s+[^\\s]+', locus)\nif existe:\n    # print( existe[0] )\n    m = re.match(r'ACCESSION\\s+([^\\s]+)', existe[0] )\n    if m:\n        id = m.group(1)\n        print( \"https://www.ncbi.nlm.nih.gov/nuccore/{}\".format( id ) )\nelse:\n    print( \"Padrão não encontrado\" )",
      "metadata": {
        "trusted": true
      },
      "execution_count": 28,
      "outputs": [
        {
          "name": "stdout",
          "text": "Padrão não encontrado\n",
          "output_type": "stream"
        }
      ]
    },
    {
      "cell_type": "markdown",
      "source": "### Exercício\n\nDado uma entrada do genbank (como a do exemplo anterior), escreva um pequeno programa que, dado um registo, dá a respetiva definição.\n\nExemplo:\n\ndados o seguinte registo em texto (abreviado):\n```\nLOCUS       HIVI5C                   231 bp    DNA     linear   VRL 24-MAR-1997\nDEFINITION  Human immunodeficiency virus type 1 (isolate genotype C, I5) gag\n            gene, partial cds.\nACCESSION   L42022\nVERSION     L42022.1\nKEYWORDS    gag gene; p24 protein.\nSOURCE      Human immunodeficiency virus 1 (HIV-1)\n  ORGANISM  Human immunodeficiency virus 1\n            Viruses; Riboviria; Pararnavirae; Artverviricota; Revtraviricetes;\n            Ortervirales; Retroviridae; Orthoretrovirinae; Lentivirus.\nREFERENCE   1  (bases 1 to 231)\n  AUTHORS   Voevodin,A., Crandall,K.A., Seth,P. and al Mufti,S.\n  TITLE     HIV type 1 subtypes B and C from new regions of India and Indian\n            and Ethiopian expatriates in Kuwait\n  JOURNAL   AIDS Res. Hum. Retroviruses 12 (7), 641-643 (1996)\n   PUBMED   8743090\n(...)\n```\n\nO resultado deveria ser:\n```\nHuman immunodeficiency virus type 1 (isolate genotype C, I5) gag gene, partial cds.\n```",
      "metadata": {}
    },
    {
      "cell_type": "code",
      "source": "# resposta",
      "metadata": {
        "trusted": true
      },
      "execution_count": 29,
      "outputs": []
    },
    {
      "cell_type": "markdown",
      "source": "### Exercício (resolvido)\n\nDado uma entrada do genbank (como a do exemplo anterior), escreva um pequeno programa que, dado um registo, dá todos os títulos das referências que aparecem no registo.\n\nExemplo:\n\ndados o seguinte registo em texto (abreviado):\n```\nLOCUS       HIVI5C                   231 bp    DNA     linear   VRL 24-MAR-1997\nDEFINITION  Human immunodeficiency virus type 1 (isolate genotype C, I5) gag\n            gene, partial cds.\nACCESSION   L42022\nVERSION     L42022.1\nKEYWORDS    gag gene; p24 protein.\nSOURCE      Human immunodeficiency virus 1 (HIV-1)\n  ORGANISM  Human immunodeficiency virus 1\n            Viruses; Riboviria; Pararnavirae; Artverviricota; Revtraviricetes;\n            Ortervirales; Retroviridae; Orthoretrovirinae; Lentivirus.\nREFERENCE   1  (bases 1 to 231)\n  AUTHORS   Voevodin,A., Crandall,K.A., Seth,P. and al Mufti,S.\n  TITLE     HIV type 1 subtypes B and C from new regions of India and Indian\n            and Ethiopian expatriates in Kuwait\n  JOURNAL   AIDS Res. Hum. Retroviruses 12 (7), 641-643 (1996)\n   PUBMED   8743090\n(...)\n```\n\nO resultado deveria ser:\n```\nHIV type 1 subtypes B and C from new regions of India and Indian and Ethiopian expatriates in Kuwait\n```",
      "metadata": {}
    },
    {
      "cell_type": "code",
      "source": "import re\n\n# fonte = open(\"L42022.1.gb\",'r')\nfonte = open(\"L42023.1.gb\",'r')\nlocus = fonte.read()\nfonte.close()\n\n# ver https://docs.python.org/3/howto/regex.html#lookahead-assertions\n# ver https://docs.python.org/3/howto/regex.html#greedy-versus-non-greedy\nexiste = re.findall(r'TITLE\\s+.*?(?=JOURNAL)', locus, re.DOTALL)\nif existe:\n    for title in existe:\n        m = re.match( r'TITLE\\s+(.+)', title, re.DOTALL )\n        # print( m.group(1) )\n        print( re.sub(r'\\s+', ' ', m.group(1) ) )",
      "metadata": {
        "trusted": true
      },
      "execution_count": 30,
      "outputs": []
    },
    {
      "cell_type": "markdown",
      "source": "### Exercício\n\nDado uma entrada do genbank (como a do exemplo anterior), escreva um pequeno programa que, dado um registo, dá a sequência que aparece no final.\n\nA sequência deve ser apresentada numa única linha, sem espaços e sem outras eltas, a não ser a, c, t e g.\n\nExemplo:\n\ndados o seguinte registo em texto (abreviado):\n```\nLOCUS       HIVI5C                   231 bp    DNA     linear   VRL 24-MAR-1997\nDEFINITION  Human immunodeficiency virus type 1 (isolate genotype C, I5) gag\n            gene, partial cds.\nACCESSION   L42022\nVERSION     L42022.1\nKEYWORDS    gag gene; p24 protein.\nSOURCE      Human immunodeficiency virus 1 (HIV-1)\n  ORGANISM  Human immunodeficiency virus 1\n            Viruses; Riboviria; Pararnavirae; Artverviricota; Revtraviricetes;\n            Ortervirales; Retroviridae; Orthoretrovirinae; Lentivirus.\nREFERENCE   1  (bases 1 to 231)\n  AUTHORS   Voevodin,A., Crandall,K.A., Seth,P. and al Mufti,S.\n  TITLE     HIV type 1 subtypes B and C from new regions of India and Indian\n            and Ethiopian expatriates in Kuwait\n  JOURNAL   AIDS Res. Hum. Retroviruses 12 (7), 641-643 (1996)\n   PUBMED   8743090\n(...)\n                     EIYKRWIILGLNKIVRMYSPVSILDIKQGPKEP\"\nORIGIN      \n        1 catccagtac atgcagggcc tattgcacca ggccaaatga gagaaccaag gggaagtgac\n       61 atagcaggaa ctacaagtac ccttcaggaa caagtagcat ggatgacagg taacccacct\n      121 gttccagtgg gagaaatcta taaaagatgg ataattctgg gattaaataa aatagtaaga\n      181 atgtatagcc ctgtcagcat tttggacata aaacaagggc caaaggaacc c\n//\n```\n\nO resultado deveria ser:\n```\ncatccagtacatgcagggcctattgcaccaggccaaatgagagaaccaaggggaagtgacatagcaggaactacaagtacccttcaggaacaagtagcatggatgacaggtaacccacctgttccagtgggagaaatctataaaagatggataattctgggattaaataaaatagtaagaatgtatagccctgtcagcattttggacataaaacaagggccaaaggaaccc\n```",
      "metadata": {}
    },
    {
      "cell_type": "code",
      "source": "# resposta",
      "metadata": {
        "trusted": true
      },
      "execution_count": 31,
      "outputs": []
    },
    {
      "cell_type": "markdown",
      "source": "### Exercício\n\nDado uma entrada do genbank (como a do exemplo anterior), escreva um pequeno programa que, dado um registo, dá a lista de proteínas (só o identificador) que são codificadas a partir de partes da sequência de DNA.\n\nOpcionalmente, em vez de apresentar só o identificador da proteína, apresente o URL necessário para consultar mais informações sobre a mesma. O URL tem a seguinte forma: base + sufixo, em que a base é `https://www.ncbi.nlm.nih.gov/protein/` e o sufixo é o identificador da proteína.\n\nExemplo:\n\ndados o seguinte registo em texto (abreviado):\n```\nLOCUS       HIVI5C                   231 bp    DNA     linear   VRL 24-MAR-1997\nDEFINITION  Human immunodeficiency virus type 1 (isolate genotype C, I5) gag\n            gene, partial cds.\nACCESSION   L42022\nVERSION     L42022.1\n(...)\nFEATURES             Location/Qualifiers\n     source          1..231\n                     /organism=\"Human immunodeficiency virus 1\"\n                     /proviral\n                     /mol_type=\"genomic DNA\"\n                     /isolate=\"genotype C, I5\"\n                     /db_xref=\"taxon:11676\"\n     gene            1..231\n                     /gene=\"gag\"\n     CDS             <1..>231\n                     /gene=\"gag\"\n                     /codon_start=1\n                     /protein_id=\"AAB50165.1\"\n                     /translation=\"HPVHAGPIAPGQMREPRGSDIAGTTSTLQEQVAWMTGNPPVPVG\n                     EIYKRWIILGLNKIVRMYSPVSILDIKQGPKEP\"\nORIGIN      \n        1 catccagtac atgcagggcc tattgcacca ggccaaatga gagaaccaag gggaagtgac\n       61 atagcaggaa ctacaagtac ccttcaggaa caagtagcat ggatgacagg taacccacct\n      121 gttccagtgg gagaaatcta taaaagatgg ataattctgg gattaaataa aatagtaaga\n      181 atgtatagcc ctgtcagcat tttggacata aaacaagggc caaaggaacc c\n//\n```\n\nO resultado deveria ser:\n```\nAAB50165.1\n```\n\nEm alternativa, o resultado poderia ser:\n```\nhttps://www.ncbi.nlm.nih.gov/protein/AAB50165.1\n```\n",
      "metadata": {}
    },
    {
      "cell_type": "code",
      "source": "# resposta\n# para completar\n",
      "metadata": {
        "trusted": true
      },
      "execution_count": 32,
      "outputs": []
    }
  ]
}